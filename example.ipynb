{
  "nbformat": 4,
  "nbformat_minor": 0,
  "metadata": {
    "colab": {
      "provenance": [],
      "authorship_tag": "ABX9TyOuYIN2HzcHL84RfqhgwPW5",
      "include_colab_link": true
    },
    "kernelspec": {
      "name": "python3",
      "display_name": "Python 3"
    },
    "language_info": {
      "name": "python"
    }
  },
  "cells": [
    {
      "cell_type": "markdown",
      "metadata": {
        "id": "view-in-github",
        "colab_type": "text"
      },
      "source": [
        "<a href=\"https://colab.research.google.com/github/rajatgarg01/practice_code_2/blob/main/example.ipynb\" target=\"_parent\"><img src=\"https://colab.research.google.com/assets/colab-badge.svg\" alt=\"Open In Colab\"/></a>"
      ]
    },
    {
      "cell_type": "code",
      "execution_count": null,
      "metadata": {
        "id": "lgrDa0jRfZiU"
      },
      "outputs": [],
      "source": []
    },
    {
      "cell_type": "markdown",
      "source": [
        "Write a program that will take user input of cost price and selling price and determines whether its a loss or a profit\n"
      ],
      "metadata": {
        "id": "25ghScF1fc5D"
      }
    },
    {
      "cell_type": "code",
      "source": [
        "def profit_loss(cost_price,selling_price):\n",
        "  if selling_price > cost_price:\n",
        "    print(\"profit\")\n",
        "  elif selling_price < cost_price:\n",
        "    print(\"loss\")\n",
        "  else:\n",
        "    print(\"no profit no loss\")\n",
        ""
      ],
      "metadata": {
        "id": "JBbLpbRPfegE"
      },
      "execution_count": 1,
      "outputs": []
    },
    {
      "cell_type": "code",
      "source": [
        "\n",
        "c=int(input(\"enter cost price:\"))\n",
        "d=int(input(\"enter selling price:\"))\n",
        "profit_loss(c,d)"
      ],
      "metadata": {
        "colab": {
          "base_uri": "https://localhost:8080/"
        },
        "id": "1MU-2NVtgLSn",
        "outputId": "7cab7c72-dcf2-4f90-c3b5-1e0a36ef423d"
      },
      "execution_count": 2,
      "outputs": [
        {
          "output_type": "stream",
          "name": "stdout",
          "text": [
            "enter cost price:15\n",
            "enter selling price:16\n",
            "profit\n"
          ]
        }
      ]
    },
    {
      "cell_type": "code",
      "source": [],
      "metadata": {
        "id": "N7mzRyD4gk_Q"
      },
      "execution_count": null,
      "outputs": []
    },
    {
      "cell_type": "markdown",
      "source": [
        "Write  a program that will tell whether the given number is divisible by 3 & 6."
      ],
      "metadata": {
        "id": "nqrL7brQgywM"
      }
    },
    {
      "cell_type": "code",
      "source": [
        "def division(a):\n",
        "  if a%3==0 and a%6==0:\n",
        "    print(\"number is divisible by 3 and 6\")\n",
        "  else:\n",
        "    print(\"number is not divisible by 3 and 6\")"
      ],
      "metadata": {
        "id": "9XwhvDpOhVV-"
      },
      "execution_count": 3,
      "outputs": []
    },
    {
      "cell_type": "code",
      "source": [
        "a=int(input(\"enter a number\"))\n",
        "division(a)"
      ],
      "metadata": {
        "colab": {
          "base_uri": "https://localhost:8080/"
        },
        "id": "1i9ADrRZhyAu",
        "outputId": "1fbd2a8a-02f5-4042-c6fb-beec706f70eb"
      },
      "execution_count": 4,
      "outputs": [
        {
          "output_type": "stream",
          "name": "stdout",
          "text": [
            "enter a number12\n",
            "number is divisible by 3 and 6\n"
          ]
        }
      ]
    },
    {
      "cell_type": "code",
      "source": [],
      "metadata": {
        "id": "z5YVsJneh6PU"
      },
      "execution_count": null,
      "outputs": []
    },
    {
      "cell_type": "markdown",
      "source": [
        "Calculate the angle between the hour hand and minute hand.\n",
        "\n",
        "Note: There can be two angles between hands; we need to print a minimum of two. Also, we need to print the floor of the final result angle. For example, if the final angle is 10.61, we need to print 10."
      ],
      "metadata": {
        "id": "-mXKWnchh9_x"
      }
    },
    {
      "cell_type": "code",
      "source": [
        "class Solution:\n",
        "     def getAngle(self, H , M):\n",
        "         self.hour=H\n",
        "         self.min=M\n",
        "         a=int(self.hour*30-self.min*6)\n",
        "         b=360-a\n",
        "         if b<a:\n",
        "             return b\n",
        "         else:\n",
        "             return a\n",
        "\n",
        "ob=Solution()\n",
        "print(ob.getAngle(11,36))\n"
      ],
      "metadata": {
        "colab": {
          "base_uri": "https://localhost:8080/"
        },
        "id": "vEl2ogS_k4ds",
        "outputId": "fef0ca15-1853-4657-955c-735567f52de9"
      },
      "execution_count": 10,
      "outputs": [
        {
          "output_type": "stream",
          "name": "stdout",
          "text": [
            "114\n"
          ]
        }
      ]
    },
    {
      "cell_type": "code",
      "source": [],
      "metadata": {
        "id": "GJfbn39KlNKf"
      },
      "execution_count": null,
      "outputs": []
    },
    {
      "cell_type": "markdown",
      "source": [
        "Given two rectangles, find if the given two rectangles overlap or not. A rectangle is denoted by providing the x and y coordinates of two points: the left top corner and the right bottom corner of the rectangle. Two rectangles sharing a side are considered overlapping. (L1 and R1 are the extreme points of the first rectangle and L2 and R2 are the extreme points of the second rectangle)"
      ],
      "metadata": {
        "id": "1fTBBbiWnIY4"
      }
    },
    {
      "cell_type": "code",
      "source": [
        "def overlap(l1,r1,l2,r2):\n",
        ""
      ],
      "metadata": {
        "id": "0BlVw7yCnJZK"
      },
      "execution_count": null,
      "outputs": []
    }
  ]
}